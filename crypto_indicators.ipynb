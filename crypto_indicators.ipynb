{
 "cells": [
  {
   "cell_type": "code",
   "execution_count": 12,
   "id": "f4a57caa-f952-4ae3-b674-6c4eb44d52e9",
   "metadata": {},
   "outputs": [],
   "source": [
    "import config\n",
    "import ccxt\n",
    "import pandas as pd"
   ]
  },
  {
   "cell_type": "code",
   "execution_count": 14,
   "id": "1426908d-dc71-4cb6-99d1-fcd40620d31a",
   "metadata": {},
   "outputs": [],
   "source": [
    "exchange = {\n",
    "        'apiKey': config.KRAKEN_API_KEY,\n",
    "        'secret': config.KRAKEN_PRIVATE_KEY,\n",
    "        'enableRateLimit': True\n",
    "    }\n",
    "exchange = ccxt.kraken(exchange)\n",
    "\n",
    "try:\n",
    "    ohlcv = exchange.fetch_ohlcv(symbol='XRP/USD', timeframe='1d')\n",
    "except ccxt.BaseError as error:\n",
    "    print(f\"Error Fetching OHLCV: {error}\")\n",
    "\n",
    "df = pd.DataFrame(ohlcv, columns=['timestamp', 'open', 'high', 'low', 'close', 'volume'])\n",
    "df['timestamp'] = pd.to_datetime(df['timestamp'], unit='ms')\n",
    "df.set_index('timestamp', inplace=True)"
   ]
  },
  {
   "cell_type": "code",
   "execution_count": 15,
   "id": "62decf8f-38aa-4922-97e9-3b0299b12101",
   "metadata": {},
   "outputs": [
    {
     "data": {
      "text/html": [
       "<div>\n",
       "<style scoped>\n",
       "    .dataframe tbody tr th:only-of-type {\n",
       "        vertical-align: middle;\n",
       "    }\n",
       "\n",
       "    .dataframe tbody tr th {\n",
       "        vertical-align: top;\n",
       "    }\n",
       "\n",
       "    .dataframe thead th {\n",
       "        text-align: right;\n",
       "    }\n",
       "</style>\n",
       "<table border=\"1\" class=\"dataframe\">\n",
       "  <thead>\n",
       "    <tr style=\"text-align: right;\">\n",
       "      <th></th>\n",
       "      <th>open</th>\n",
       "      <th>high</th>\n",
       "      <th>low</th>\n",
       "      <th>close</th>\n",
       "      <th>volume</th>\n",
       "    </tr>\n",
       "    <tr>\n",
       "      <th>timestamp</th>\n",
       "      <th></th>\n",
       "      <th></th>\n",
       "      <th></th>\n",
       "      <th></th>\n",
       "      <th></th>\n",
       "    </tr>\n",
       "  </thead>\n",
       "  <tbody>\n",
       "    <tr>\n",
       "      <th>2023-06-12</th>\n",
       "      <td>0.52055</td>\n",
       "      <td>0.52795</td>\n",
       "      <td>0.50903</td>\n",
       "      <td>0.52527</td>\n",
       "      <td>6.905383e+06</td>\n",
       "    </tr>\n",
       "    <tr>\n",
       "      <th>2023-06-13</th>\n",
       "      <td>0.52565</td>\n",
       "      <td>0.56500</td>\n",
       "      <td>0.50482</td>\n",
       "      <td>0.51926</td>\n",
       "      <td>2.329772e+07</td>\n",
       "    </tr>\n",
       "    <tr>\n",
       "      <th>2023-06-14</th>\n",
       "      <td>0.51912</td>\n",
       "      <td>0.52019</td>\n",
       "      <td>0.46141</td>\n",
       "      <td>0.47998</td>\n",
       "      <td>1.316981e+07</td>\n",
       "    </tr>\n",
       "    <tr>\n",
       "      <th>2023-06-15</th>\n",
       "      <td>0.48000</td>\n",
       "      <td>0.48511</td>\n",
       "      <td>0.46761</td>\n",
       "      <td>0.47994</td>\n",
       "      <td>7.485971e+06</td>\n",
       "    </tr>\n",
       "    <tr>\n",
       "      <th>2023-06-16</th>\n",
       "      <td>0.47970</td>\n",
       "      <td>0.48262</td>\n",
       "      <td>0.45500</td>\n",
       "      <td>0.47549</td>\n",
       "      <td>9.882194e+06</td>\n",
       "    </tr>\n",
       "  </tbody>\n",
       "</table>\n",
       "</div>"
      ],
      "text/plain": [
       "               open     high      low    close        volume\n",
       "timestamp                                                   \n",
       "2023-06-12  0.52055  0.52795  0.50903  0.52527  6.905383e+06\n",
       "2023-06-13  0.52565  0.56500  0.50482  0.51926  2.329772e+07\n",
       "2023-06-14  0.51912  0.52019  0.46141  0.47998  1.316981e+07\n",
       "2023-06-15  0.48000  0.48511  0.46761  0.47994  7.485971e+06\n",
       "2023-06-16  0.47970  0.48262  0.45500  0.47549  9.882194e+06"
      ]
     },
     "execution_count": 15,
     "metadata": {},
     "output_type": "execute_result"
    }
   ],
   "source": [
    "df.head()"
   ]
  },
  {
   "cell_type": "code",
   "execution_count": null,
   "id": "da8f8d94-244b-41a2-8b79-298976a8493a",
   "metadata": {},
   "outputs": [],
   "source": []
  }
 ],
 "metadata": {
  "kernelspec": {
   "display_name": "Python 3 (ipykernel)",
   "language": "python",
   "name": "python3"
  },
  "language_info": {
   "codemirror_mode": {
    "name": "ipython",
    "version": 3
   },
   "file_extension": ".py",
   "mimetype": "text/x-python",
   "name": "python",
   "nbconvert_exporter": "python",
   "pygments_lexer": "ipython3",
   "version": "3.11.9"
  }
 },
 "nbformat": 4,
 "nbformat_minor": 5
}
