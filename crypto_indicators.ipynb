{
 "cells": [
  {
   "cell_type": "code",
   "execution_count": null,
   "id": "f4a57caa-f952-4ae3-b674-6c4eb44d52e9",
   "metadata": {},
   "outputs": [],
   "source": []
  }
 ],
 "metadata": {
  "kernelspec": {
   "display_name": "",
   "name": ""
  },
  "language_info": {
   "name": ""
  }
 },
 "nbformat": 4,
 "nbformat_minor": 5
}
